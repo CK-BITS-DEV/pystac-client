{
 "cells": [
  {
   "cell_type": "markdown",
   "id": "e06a27bf",
   "metadata": {},
   "source": [
    "# pystac-client Download Assets\n",
    "\n",
    "This notebook shows how to use pystac-client to download assets in STAC Items locally, while updating the STAC Item metadata to point to the local files."
   ]
  },
  {
   "cell_type": "code",
   "execution_count": null,
   "id": "6f8d1814",
   "metadata": {},
   "outputs": [],
   "source": [
    "!pip install planetary_computer"
   ]
  },
  {
   "cell_type": "code",
   "execution_count": null,
   "id": "b65de617",
   "metadata": {},
   "outputs": [],
   "source": [
    "# set pystac_client logger to DEBUG to see API calls\n",
    "import logging\n",
    "logging.basicConfig()\n",
    "logger = logging.getLogger('pystac_client')\n",
    "logger.setLevel(logging.DEBUG)"
   ]
  },
  {
   "cell_type": "markdown",
   "id": "1e16077c",
   "metadata": {},
   "source": [
    "# Client\n",
    "\n",
    "We first connect to an API by retrieving the root catalog, or landing page, of the API with the `Client.open` function."
   ]
  },
  {
   "cell_type": "code",
   "execution_count": null,
   "id": "98942e75",
   "metadata": {},
   "outputs": [],
   "source": [
    "from pystac import ItemCollection\n",
    "from pystac_client import Client\n",
    "\n",
    "# STAC API root URL\n",
    "URL = 'https://planetarycomputer.microsoft.com/api/stac/v1'\n",
    "\n",
    "# custom headers\n",
    "headers = []\n",
    "\n",
    "cat = Client.open(URL, headers=headers)\n",
    "cat"
   ]
  },
  {
   "cell_type": "markdown",
   "id": "62e26114",
   "metadata": {},
   "source": [
    "# API Search\n",
    "\n",
    "If the Catalog is an API, we have the ability to search for items based on spatio-temporal properties."
   ]
  },
  {
   "cell_type": "code",
   "execution_count": null,
   "id": "d8af6334",
   "metadata": {
    "scrolled": true
   },
   "outputs": [],
   "source": [
    "# AOI around Delfzijl, in northern Netherlands\n",
    "geom = {\n",
    "    \"type\": \"Polygon\",\n",
    "    \"coordinates\": [\n",
    "      [\n",
    "        [\n",
    "          6.42425537109375,\n",
    "          53.174765470134616\n",
    "        ],\n",
    "        [\n",
    "          7.344360351562499,\n",
    "          53.174765470134616\n",
    "        ],\n",
    "        [\n",
    "          7.344360351562499,\n",
    "          53.67393435835391\n",
    "        ],\n",
    "        [\n",
    "          6.42425537109375,\n",
    "          53.67393435835391\n",
    "        ],\n",
    "        [\n",
    "          6.42425537109375,\n",
    "          53.174765470134616\n",
    "        ]\n",
    "      ]\n",
    "    ]\n",
    "}\n",
    "\n",
    "# limit sets the # of items per page so we can see multiple pages getting fetched\n",
    "search = cat.search(\n",
    "    collections = \"sentinel-2-l2a\",\n",
    "    intersects = geom,\n",
    "    datetime = \"2020-01-01/2020-12-31\",\n",
    "    max_items = 5,\n",
    "    limit = 10\n",
    ")\n",
    "\n",
    "# PySTAC ItemCollection\n",
    "items = search.get_all_items()\n",
    "\n",
    "# Dictionary (GeoJSON FeatureCollection)\n",
    "#item_json = items.to_dict()\n",
    "\n",
    "len(items)"
   ]
  },
  {
   "cell_type": "code",
   "execution_count": null,
   "id": "65c55eca",
   "metadata": {},
   "outputs": [],
   "source": [
    "import planetary_computer as pc\n",
    "\n",
    "items = pc.sign(items)"
   ]
  },
  {
   "cell_type": "code",
   "execution_count": null,
   "id": "d24e8c51",
   "metadata": {},
   "outputs": [],
   "source": [
    "from pystac_client.item_client import ItemClient\n",
    "\n",
    "# super hacky (need to update item_search.py to return an ItemCollectionClient)\n",
    "for i in items:\n",
    "    i.__class__ = ItemClient\n",
    "items[0]"
   ]
  },
  {
   "cell_type": "code",
   "execution_count": null,
   "id": "93d65ed4",
   "metadata": {},
   "outputs": [],
   "source": [
    "import asyncio\n",
    "\n",
    "async def download_items_assets(items, **kwargs):\n",
    "    tasks = []\n",
    "    print(kwargs)\n",
    "    for item in items:\n",
    "        task = asyncio.create_task(item.download_assets(**kwargs))\n",
    "        tasks.append(task)\n",
    "    new_items = await asyncio.wait(tasks)\n",
    "    return new_items"
   ]
  },
  {
   "cell_type": "code",
   "execution_count": null,
   "id": "a134a045",
   "metadata": {
    "scrolled": true
   },
   "outputs": [],
   "source": [
    "assets = ['B03', 'B04']\n",
    "\n",
    "#new_items = [download_items_assets(i, assets=assets) for i in items]\n",
    "new_item = await download_items_assets(items, assets=assets, concurrent_downloads=5) #, overwrite=True)\n",
    "\n",
    "#await asyncio.wait(new_items)"
   ]
  },
  {
   "cell_type": "code",
   "execution_count": null,
   "id": "77ba5ac8",
   "metadata": {},
   "outputs": [],
   "source": []
  }
 ],
 "metadata": {
  "kernelspec": {
   "display_name": "Python 3 (ipykernel)",
   "language": "python",
   "name": "python3"
  },
  "language_info": {
   "codemirror_mode": {
    "name": "ipython",
    "version": 3
   },
   "file_extension": ".py",
   "mimetype": "text/x-python",
   "name": "python",
   "nbconvert_exporter": "python",
   "pygments_lexer": "ipython3",
   "version": "3.9.4"
  }
 },
 "nbformat": 4,
 "nbformat_minor": 5
}
